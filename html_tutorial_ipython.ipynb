{
  "cells": [
    {
      "cell_type": "markdown",
      "id": "ce88b7fb",
      "metadata": {
        "id": "ce88b7fb"
      },
      "source": [
        "# HTML Tutorial for Beginners"
      ]
    },
    {
      "cell_type": "markdown",
      "id": "84b6e391",
      "metadata": {
        "id": "84b6e391"
      },
      "source": [
        "## Introduction\n",
        "This tutorial will introduce you to the basics of HTML, the standard markup language for creating web pages."
      ]
    },
    {
      "cell_type": "markdown",
      "id": "cc46796c",
      "metadata": {
        "id": "cc46796c"
      },
      "source": [
        "## What is HTML?\n",
        "HTML stands for Hyper Text Markup Language. It is the standard markup language for creating web pages and web applications."
      ]
    },
    {
      "cell_type": "markdown",
      "id": "43a77ab9",
      "metadata": {
        "id": "43a77ab9"
      },
      "source": [
        "## Basic Structure of an HTML Page"
      ]
    },
    {
      "cell_type": "code",
      "execution_count": 2,
      "id": "d1137033",
      "metadata": {
        "id": "d1137033",
        "outputId": "f6af0637-3fb7-4b1f-89d3-5d7bcfc62e65",
        "colab": {
          "base_uri": "https://localhost:8080/",
          "height": 100
        }
      },
      "outputs": [
        {
          "output_type": "execute_result",
          "data": {
            "text/plain": [
              "<IPython.core.display.HTML object>"
            ],
            "text/html": [
              "\n",
              "<!DOCTYPE html>\n",
              "<html>\n",
              "<head>\n",
              "    <title>Page Title</title>\n",
              "</head>\n",
              "<body>\n",
              "    <h1>My First Heading</h1>\n",
              "    <p>My first paragraph.</p>\n",
              "</body>\n",
              "</html>\n"
            ]
          },
          "metadata": {},
          "execution_count": 2
        }
      ],
      "source": [
        "\n",
        "from IPython.display import HTML\n",
        "HTML('''\n",
        "<!DOCTYPE html>\n",
        "<html>\n",
        "<head>\n",
        "    <title>Page Title</title>\n",
        "</head>\n",
        "<body>\n",
        "    <h1>My First Heading</h1>\n",
        "    <p>My first paragraph.</p>\n",
        "</body>\n",
        "</html>\n",
        "''')\n"
      ]
    },
    {
      "cell_type": "markdown",
      "id": "b98022af",
      "metadata": {
        "id": "b98022af"
      },
      "source": [
        "## Headings\n",
        "HTML headings are defined with the `<h1>` to `<h6>` tags."
      ]
    },
    {
      "cell_type": "code",
      "execution_count": 3,
      "id": "b5da41ae",
      "metadata": {
        "id": "b5da41ae",
        "outputId": "59a283fa-7794-44b2-f704-a892f5012e8a",
        "colab": {
          "base_uri": "https://localhost:8080/",
          "height": 155
        }
      },
      "outputs": [
        {
          "output_type": "execute_result",
          "data": {
            "text/plain": [
              "<IPython.core.display.HTML object>"
            ],
            "text/html": [
              "\n",
              "<h1>This is heading 1</h1>\n",
              "<h2>This is heading 2</h2>\n",
              "<h3>This is heading 3</h3>\n"
            ]
          },
          "metadata": {},
          "execution_count": 3
        }
      ],
      "source": [
        "\n",
        "from IPython.display import HTML\n",
        "HTML('''\n",
        "<h1>This is heading 1</h1>\n",
        "<h2>This is heading 2</h2>\n",
        "<h3>This is heading 3</h3>\n",
        "''')\n"
      ]
    },
    {
      "cell_type": "markdown",
      "id": "2b6c382a",
      "metadata": {
        "id": "2b6c382a"
      },
      "source": [
        "## Paragraphs\n",
        "HTML paragraphs are defined with the `<p>` tag."
      ]
    },
    {
      "cell_type": "code",
      "execution_count": 4,
      "id": "a442878f",
      "metadata": {
        "id": "a442878f",
        "outputId": "308eedfe-f52e-46a7-8313-c03ea76bfe0c",
        "colab": {
          "base_uri": "https://localhost:8080/",
          "height": 70
        }
      },
      "outputs": [
        {
          "output_type": "execute_result",
          "data": {
            "text/plain": [
              "<IPython.core.display.HTML object>"
            ],
            "text/html": [
              "\n",
              "<p>This is a paragraph.</p>\n",
              "<p>This is another paragraph.</p>\n"
            ]
          },
          "metadata": {},
          "execution_count": 4
        }
      ],
      "source": [
        "\n",
        "from IPython.display import HTML\n",
        "HTML('''\n",
        "<p>This is a paragraph.</p>\n",
        "<p>This is another paragraph.</p>\n",
        "''')\n"
      ]
    },
    {
      "cell_type": "markdown",
      "id": "19185f1c",
      "metadata": {
        "id": "19185f1c"
      },
      "source": [
        "## Links\n",
        "HTML links are defined with the `<a>` tag."
      ]
    },
    {
      "cell_type": "code",
      "execution_count": 5,
      "id": "33f1363a",
      "metadata": {
        "id": "33f1363a",
        "outputId": "a965fa05-648d-4c82-c485-17e261460b0a",
        "colab": {
          "base_uri": "https://localhost:8080/",
          "height": 34
        }
      },
      "outputs": [
        {
          "output_type": "execute_result",
          "data": {
            "text/plain": [
              "<IPython.core.display.HTML object>"
            ],
            "text/html": [
              "\n",
              "<a href='https://www.example.com'>This is a link</a>\n"
            ]
          },
          "metadata": {},
          "execution_count": 5
        }
      ],
      "source": [
        "\n",
        "from IPython.display import HTML\n",
        "HTML('''\n",
        "<a href='https://www.example.com'>This is a link</a>\n",
        "''')\n"
      ]
    },
    {
      "cell_type": "markdown",
      "id": "eaad93dc",
      "metadata": {
        "id": "eaad93dc"
      },
      "source": [
        "## Images\n",
        "HTML images are defined with the `<img>` tag."
      ]
    },
    {
      "cell_type": "code",
      "execution_count": 6,
      "id": "426da172",
      "metadata": {
        "id": "426da172",
        "outputId": "3b2472f4-1731-4968-fd54-8fbca22564ac",
        "colab": {
          "resources": {
            "http://localhost:8080/url": {
              "data": "",
              "ok": false,
              "headers": [
                [
                  "content-length",
                  "0"
                ]
              ],
              "status": 404,
              "status_text": ""
            }
          },
          "base_uri": "https://localhost:8080/",
          "height": 34
        }
      },
      "outputs": [
        {
          "output_type": "execute_result",
          "data": {
            "text/plain": [
              "<IPython.core.display.HTML object>"
            ],
            "text/html": [
              "\n",
              "<img src='url' alt='Alternate text' width='100' height='100'>\n"
            ]
          },
          "metadata": {},
          "execution_count": 6
        }
      ],
      "source": [
        "\n",
        "from IPython.display import HTML\n",
        "HTML('''\n",
        "<img src='url' alt='Alternate text' width='100' height='100'>\n",
        "''')\n"
      ]
    },
    {
      "cell_type": "markdown",
      "id": "59c69232",
      "metadata": {
        "id": "59c69232"
      },
      "source": [
        "## Lists\n",
        "HTML supports ordered and unordered lists."
      ]
    },
    {
      "cell_type": "code",
      "execution_count": 7,
      "id": "2f14783a",
      "metadata": {
        "id": "2f14783a",
        "outputId": "01d76101-a006-45b2-cd5c-8fa0266f89f2",
        "colab": {
          "base_uri": "https://localhost:8080/",
          "height": 138
        }
      },
      "outputs": [
        {
          "output_type": "execute_result",
          "data": {
            "text/plain": [
              "<IPython.core.display.HTML object>"
            ],
            "text/html": [
              "\n",
              "<ul>\n",
              "    <li>Coffee</li>\n",
              "    <li>Tea</li>\n",
              "    <li>Milk</li>\n",
              "</ul>\n",
              "<ol>\n",
              "    <li>First item</li>\n",
              "    <li>Second item</li>\n",
              "</ol>\n"
            ]
          },
          "metadata": {},
          "execution_count": 7
        }
      ],
      "source": [
        "\n",
        "from IPython.display import HTML\n",
        "HTML('''\n",
        "<ul>\n",
        "    <li>Coffee</li>\n",
        "    <li>Tea</li>\n",
        "    <li>Milk</li>\n",
        "</ul>\n",
        "<ol>\n",
        "    <li>First item</li>\n",
        "    <li>Second item</li>\n",
        "</ol>\n",
        "''')\n"
      ]
    },
    {
      "cell_type": "markdown",
      "id": "cca242bf",
      "metadata": {
        "id": "cca242bf"
      },
      "source": [
        "## Putting It All Together\n",
        "Let's create a simple webpage using what we've learned."
      ]
    },
    {
      "cell_type": "code",
      "execution_count": 8,
      "id": "c0196a8f",
      "metadata": {
        "id": "c0196a8f",
        "outputId": "22954bf2-694c-48d4-edf9-d8732d495a52",
        "colab": {
          "base_uri": "https://localhost:8080/",
          "height": 225
        }
      },
      "outputs": [
        {
          "output_type": "execute_result",
          "data": {
            "text/plain": [
              "<IPython.core.display.HTML object>"
            ],
            "text/html": [
              "\n",
              "<!DOCTYPE html>\n",
              "<html>\n",
              "<head>\n",
              "    <title>My Web Page</title>\n",
              "</head>\n",
              "<body>\n",
              "    <h1>Welcome to My Web Page</h1>\n",
              "    <p>This is a paragraph on my web page.</p>\n",
              "    <a href='https://www.example.com'>Visit Example</a>\n",
              "    <h2>My Favorite Foods</h2>\n",
              "    <ul>\n",
              "        <li>Pizza</li>\n",
              "        <li>Sushi</li>\n",
              "        <li>Chocolate</li>\n",
              "    </ul>\n",
              "</body>\n",
              "</html>\n"
            ]
          },
          "metadata": {},
          "execution_count": 8
        }
      ],
      "source": [
        "\n",
        "from IPython.display import HTML\n",
        "HTML('''\n",
        "<!DOCTYPE html>\n",
        "<html>\n",
        "<head>\n",
        "    <title>My Web Page</title>\n",
        "</head>\n",
        "<body>\n",
        "    <h1>Welcome to My Web Page</h1>\n",
        "    <p>This is a paragraph on my web page.</p>\n",
        "    <a href='https://www.example.com'>Visit Example</a>\n",
        "    <h2>My Favorite Foods</h2>\n",
        "    <ul>\n",
        "        <li>Pizza</li>\n",
        "        <li>Sushi</li>\n",
        "        <li>Chocolate</li>\n",
        "    </ul>\n",
        "</body>\n",
        "</html>\n",
        "''')\n"
      ]
    }
  ],
  "metadata": {
    "colab": {
      "provenance": []
    },
    "language_info": {
      "name": "python"
    },
    "kernelspec": {
      "name": "python3",
      "display_name": "Python 3"
    }
  },
  "nbformat": 4,
  "nbformat_minor": 5
}